{
 "cells": [
  {
   "cell_type": "markdown",
   "metadata": {},
   "source": [
    "***\n",
    "# <font color=indianred size=10>INTRODUÇÃO</font>\n",
    "\n",
    "***\n",
    "- Arquivo\t: notebook.ipynb\n",
    "- Título\t: Exercício 4 - Disciplina de Redes Neurais Artificiais (DELT/UFMG)\n",
    "- Autor\t    : Gustavo Augusto Ortiz de Oliveira (gstvortiz@hotmail.com) <br> <br> <br>\n",
    "- Descrição: \n",
    "A prática desta semana introduz Redes Neurais do tipo RBF (Radial Basis Functions), que são caracterizadas pela utilização de funções radiais nos neurônios de sua única camada intermediária. Similar às estruturas estudadas anteriormente, essas respostas são combinadas linearmente para a obtenção de saída da rede. De maneira geral, uma rede RBF pode ser descrita conforme equação:\n",
    "$$  f(x,\\theta) = \\sum_{i=1}^{n}w_{i}h_{i}(x, z_{i})+w_{0} $$\n",
    "\n",
    "Nesse contexto, temos que:\n",
    "1. **$w_i$** é o vetor de parâmetros do neurônio de saída.\n",
    "2. **$z_i$** é o vetor que contém todos os parâmetros do neurônio $i$ da camada intermediária.\n",
    "3. **$\\theta$** é o vetor que contém a concatenação de todos os parâmetros.\n",
    "\n"
   ]
  },
  {
   "cell_type": "markdown",
   "metadata": {},
   "source": [
    "## [1]. BIBILIOTECAS"
   ]
  },
  {
   "cell_type": "code",
   "execution_count": 1,
   "metadata": {},
   "outputs": [],
   "source": [
    "import os\n",
    "import shutil\n",
    "import datetime\n",
    "from PIL import Image\n",
    "import numpy as np\n",
    "import pandas as pd\n",
    "import seaborn as sns\n",
    "import matplotlib.pyplot as plt\n",
    "from numpy import pi as pi\n",
    "from sklearn.cluster import KMeans as SKMeans\n",
    "from sklearn.model_selection import train_test_split\n",
    "\n",
    "np.set_printoptions(suppress=True, precision=3)\n",
    "pd.options.display.max_columns = None\n",
    "pd.options.display.max_rows = 100\n",
    "plt.rcParams['figure.dpi'] = 300\n",
    "plt.rcParams['savefig.dpi'] = 300\n",
    "sns.set(rc={\"figure.dpi\":300, 'savefig.dpi':300})\n",
    "sns.set_style('ticks')"
   ]
  },
  {
   "cell_type": "markdown",
   "metadata": {},
   "source": [
    "***\n",
    "# <font color=royalblue size=10>FUNÇÕES</font>\n",
    "\n",
    "***\n"
   ]
  },
  {
   "cell_type": "markdown",
   "metadata": {},
   "source": [
    "## [1] SEPARAR DADOS"
   ]
  },
  {
   "cell_type": "code",
   "execution_count": 2,
   "metadata": {},
   "outputs": [],
   "source": [
    "def SepararDados(dir, col = 'labels', sample = None):\n",
    "    dados = pd.read_csv(dir).sample(sample) if sample else pd.read_csv(dir)\n",
    "    X = dados.drop(col, axis = 1).values\n",
    "    labels = dados[col].values\n",
    "    return X, labels"
   ]
  },
  {
   "cell_type": "markdown",
   "metadata": {},
   "source": [
    "## [2] KMEANS"
   ]
  },
  {
   "cell_type": "code",
   "execution_count": 3,
   "metadata": {},
   "outputs": [],
   "source": [
    "def KMeans(X, p, n_init = 10, func = np.mean):\n",
    "    kmeans = SKMeans(n_clusters=p, n_init=n_init).fit(X)\n",
    "    labels = kmeans.labels_ \n",
    "    centros = kmeans.cluster_centers_\n",
    "    raios = list()\n",
    "    for cluster_id in range(p):\n",
    "        cluster_points = X[labels == cluster_id]\n",
    "        centro = centros[cluster_id]\n",
    "        distancias_euclidianas = np.linalg.norm(cluster_points - centro, axis=1)\n",
    "        raios.append(func(distancias_euclidianas))\n",
    "    return centros, raios, labels"
   ]
  },
  {
   "cell_type": "markdown",
   "metadata": {},
   "source": [
    "## [3] CLASSE RBF"
   ]
  },
  {
   "cell_type": "code",
   "execution_count": 4,
   "metadata": {},
   "outputs": [],
   "source": [
    "def Normal(c, r):\n",
    "    return lambda x: np.exp(-((x - np.array(c))**2).sum() / (2 * r**2))\n",
    "\n",
    "class NormalRBF:\n",
    "    def __init__(self, centros, raios):\n",
    "        self.centros = centros\n",
    "        self.raios = raios\n",
    "        self.p = len(raios)\n",
    "        self.w = None\n",
    "\n",
    "    def HiddenLayer(self, X):\n",
    "        N = X.shape[0]\n",
    "        H = np.ones((N, self.p + 1))\n",
    "        for i in range(N):\n",
    "            for j in range(self.p):\n",
    "                H[i, j] = Normal(self.centros[j], self.raios[j])(X[i])\n",
    "        return H\n",
    "\n",
    "    def fit(self, X, labels):\n",
    "        self.w = np.linalg.pinv(self.HiddenLayer(X)).dot(labels)\n",
    "    \n",
    "    def predict(self, X):\n",
    "        return self.HiddenLayer(X).dot(self.w)"
   ]
  },
  {
   "cell_type": "markdown",
   "metadata": {},
   "source": [
    "## [4] CLASSE PARA VISUALIZAÇÃO"
   ]
  },
  {
   "cell_type": "code",
   "execution_count": 5,
   "metadata": {},
   "outputs": [],
   "source": [
    "class Fig():\n",
    "    def __init__(self, rows = 2, cols = 2, fs = (10, 7), lim = 3):\n",
    "        self.fig, self.axs  = plt.subplots(rows, cols, figsize=fs)\n",
    "        for ax in self.axs.ravel():\n",
    "            ax.set_xlim((-lim, lim))\n",
    "            ax.set_ylim((-lim, lim))\n",
    "\n",
    "    def GridHelper(self, ax):\n",
    "        eixo_x = np.linspace(ax.get_xlim()[0], ax.get_xlim()[1], 200)\n",
    "        eixo_y = np.linspace(ax.get_ylim()[0], ax.get_ylim()[1], 200)\n",
    "        xx, yy = np.meshgrid(eixo_x, eixo_y)\n",
    "        pontos = np.column_stack((xx.ravel(), yy.ravel()))\n",
    "        return xx, yy, pontos\n",
    "\n",
    "    def Grid(self, n, Neuronio, alpha = 0.7, palette = 'plasma'):\n",
    "        ax = self.axs.ravel()[n]\n",
    "        xx, yy, pontos = self.GridHelper(ax)\n",
    "        labels_pred = Neuronio.predict(pontos).reshape(xx.shape).round(2)\n",
    "        ax.contourf(xx, yy, labels_pred, alpha = alpha, cmap = palette)\n",
    "    \n",
    "    def Plot(self, n, x0, x1, labels, plot = sns.scatterplot, palette = 'plasma'):\n",
    "        ax = self.axs.ravel()[n]\n",
    "        plot(x = x0, y = x1, hue = labels, ax = ax, palette = palette)\n",
    "        ax.get_legend().remove()"
   ]
  },
  {
   "cell_type": "markdown",
   "metadata": {},
   "source": [
    "## [5] CLASSE PARA GIF"
   ]
  },
  {
   "cell_type": "code",
   "execution_count": 6,
   "metadata": {},
   "outputs": [],
   "source": [
    "class GIF():\n",
    "    def __init__(self, folder = 'data/img'):\n",
    "        self.folder = folder\n",
    "\n",
    "    def Preparar(self):\n",
    "        if os.path.exists(self.folder):\n",
    "            shutil.rmtree(self.folder)\n",
    "        os.mkdir(self.folder)\n",
    "    \n",
    "    def FileNames(self):\n",
    "        arquivos_info = []\n",
    "        for nome_imagem in os.listdir(self.folder):\n",
    "            caminho_completo = os.path.join(self.folder, nome_imagem)\n",
    "            data_criacao = datetime.datetime.fromtimestamp(os.path.getctime(caminho_completo))\n",
    "            arquivos_info.append((caminho_completo, data_criacao))\n",
    "        arquivos_info.sort(key=lambda x: x[1])\n",
    "        return np.array(arquivos_info)[:, 0]\n",
    "    \n",
    "    def Make(self, path = 'data'):\n",
    "        imagens = []\n",
    "        for caminho in self.FileNames():\n",
    "            imagem = Image.open(caminho)\n",
    "            imagens.append(imagem)\n",
    "        imagens[0].save(f'{path}/gif.gif', save_all=True, append_images=imagens[1:], duration=400, loop=0)"
   ]
  },
  {
   "cell_type": "markdown",
   "metadata": {},
   "source": [
    "***\n",
    "# <font color=forestgreen size=10>EXERCÍCIO PROPOSTO</font>\n",
    "*** \n",
    "<br>\n",
    "<div align = 'center'> <img src = 'data/Enunciado.png'> </div> <br>\n",
    "\n",
    "***"
   ]
  },
  {
   "cell_type": "markdown",
   "metadata": {},
   "source": [
    "## [1] RESOLUÇÃO COMENTADA"
   ]
  },
  {
   "cell_type": "code",
   "execution_count": 7,
   "metadata": {},
   "outputs": [],
   "source": [
    "# Configurações Preliminares\n",
    "GIF().Preparar()\n",
    "acuracias = dict()\n",
    "\n",
    "for sample in range(100, 2001, 10):\n",
    "    # [1] Preparando Dados\n",
    "    X, labels = SepararDados('data/xor.csv', sample = sample)\n",
    "    X_train, X_test, labels_train, labels_test = train_test_split(X, labels, train_size=0.9, stratify=labels)\n",
    "    centros, raios = KMeans(X_train, p = 4)[:2]\n",
    "\n",
    "    # [2] Treinando a Rede\n",
    "    Rede = NormalRBF(centros, raios)\n",
    "    Rede.fit(X_train, labels_train)\n",
    "\n",
    "    ## [3] Realizando Previsões\n",
    "    labels_pred = Rede.predict(X_test)\n",
    "\n",
    "    ## [4] Calculando Acurácia do Modelo\n",
    "    bool_vector = (np.round(labels_pred) == labels_test)\n",
    "    acuracias[sample] = 100 * sum(bool_vector)/len(bool_vector)\n",
    "\n",
    "    # [5] Armazenando Visualização de Resultados\n",
    "    fig = Fig(1, 2, (10, 4), 4)\n",
    "    fig.fig.suptitle(f'Radial Basis Function Neural Network: Problema XOR ({sample} Amostras)', fontsize = 14, y = 1.08)\n",
    "    fig.axs[0].set_title(f'Dados de Treino ({len(labels_train)})')\n",
    "    fig.Plot(0, X_train[:, 0], X_train[:, 1], labels_train)\n",
    "    fig.axs[1].set_title(f'Dados de Teste ({len(labels_test)})')\n",
    "    fig.Grid(1, Rede, 0.5)\n",
    "    fig.Plot(1, X_test[:, 0], X_test[:, 1], labels_test)\n",
    "    ax = fig.fig.add_axes([0.15, -0.5, 0.7, 0.4])\n",
    "    ax.set_title('Precisão do Modelo por Quantidade de Amostras')\n",
    "    sns.lineplot(x = acuracias.keys(), y = acuracias.values())\n",
    "    ax.set_xlabel('Quantidade de Amostras')\n",
    "    ax.set_ylabel('Acurácia (%)')\n",
    "    ax.set_ylim(90, 101)\n",
    "    plt.savefig(f'data/img/{sample}.png', bbox_inches = 'tight')\n",
    "    plt.close()\n",
    "\n",
    "# Criando GIF com Resultados\n",
    "GIF().Make()"
   ]
  },
  {
   "cell_type": "markdown",
   "metadata": {},
   "source": [
    "## [2] VISUALIZANDO RESULTADOS\n",
    "<div> <img src = \"data/gif.gif\"> </div>"
   ]
  },
  {
   "cell_type": "markdown",
   "metadata": {},
   "source": [
    "$$ X= \\begin{bmatrix}\n",
    "x_{11} & x_{12} & \\ldots & x_{1n} \\\\\n",
    "x_{21} & x_{22} & \\ldots & x_{2n} \\\\\n",
    "\\vdots & \\vdots & \\ddots & \\vdots \\\\\n",
    "x_{N1} & x_{N2} & \\ldots & x_{Nn} \\\\\n",
    "\\end{bmatrix}_ {Nxn}  $$"
   ]
  },
  {
   "cell_type": "markdown",
   "metadata": {},
   "source": [
    "$$ c =\n",
    "\\begin{bmatrix}\n",
    "c_{11} & c_{12} & \\ldots & c_{1p} \\\\\n",
    "c_{21} & c_{22} & \\ldots & c_{2p} \\\\\n",
    "\\vdots & \\vdots & \\ddots & \\vdots \\\\\n",
    "c_{n1} & c_{n2} & \\ldots & c_{np} \\\\\n",
    "\\end{bmatrix}_ {nxp} $$"
   ]
  },
  {
   "cell_type": "markdown",
   "metadata": {},
   "source": [
    "$$ r =\n",
    "\\begin{bmatrix}\n",
    "r_{1} &\n",
    "r_{2} &\n",
    "\\ldots &\n",
    "r_{n}\n",
    "\\end{bmatrix} $$"
   ]
  }
 ],
 "metadata": {
  "kernelspec": {
   "display_name": "Python 3",
   "language": "python",
   "name": "python3"
  },
  "language_info": {
   "codemirror_mode": {
    "name": "ipython",
    "version": 3
   },
   "file_extension": ".py",
   "mimetype": "text/x-python",
   "name": "python",
   "nbconvert_exporter": "python",
   "pygments_lexer": "ipython3",
   "version": "3.10.12"
  }
 },
 "nbformat": 4,
 "nbformat_minor": 2
}
